{
 "cells": [
  {
   "cell_type": "code",
   "execution_count": 7,
   "metadata": {},
   "outputs": [],
   "source": [
    "import openai\n",
    "\n",
    "system = {\"role\": \"system\", \"content\": \"Du bist ein Assistent der nur JSON spricht.\"}\n",
    "prompt = \"\"\"\n",
    "Der Text beinhaltet den Titel und eine Zusammenfassung einer Geschichts-Podcast Episode. Schreib mir für den Text alle enthaltenen Orte, die Zeit in der die Geschichte aus der Episode spielt und die übergeordneten Themen, die behandelt werden. Schreibe für die Orte den Kontext, in dem Sie besprochen werden und die genauen Koordinaten. Für die Zeit schreibe eine textliche Beschreibung, sowie die Jahreszahlen. Für die übergeordneten Themen, brauche ich einen Namen für das Thema und eine kurze Beschreibung und Einordnung des Themas.\n",
    "Gebe die Antwort in Format:\n",
    "{\n",
    "\"locations\": [\n",
    "{\n",
    "\"name\":\n",
    "\"context\":\n",
    "\"coordinates\": {\n",
    "\"latitude\":\n",
    "\"longitude\":\n",
    "}\n",
    "}\n",
    "],\n",
    "\"time\": {\n",
    "\"description\": \n",
    "\"start_year\": \n",
    "\"end_year\": \n",
    "},\n",
    "\"topics\": [\n",
    "{\n",
    "\"topic_name\":\n",
    "\"description\": \n",
    "}\n",
    "]\n",
    "}\n",
    "Text: Als in Europa Menschen ausgestellt wurden. Eine Geschichte über Nayo Bruce und „Völkerschauen“. Ende des 19. Jahrhunderts kam Nayo Bruce aus Togo in Westafrika ins Deutsche Kaiserreich und wurde Teil einer „Völkerschau“ bzw. eines Menschenzoos. Im Rahmen der Berliner Gewerbeausstellung 1896 – die als verhinderte Weltausstellung bekannt ist – fand auch eine Kolonialausstellung statt, bei der über 100 Afrikanerinnen und Afrikaner in nachgebauten Dörfern ihr Alltagsleben nachspielen mussten. Als Mitglied der sog. „Togo-Truppe“ oder „Togo-Karawane“ zog Nayo Bruce in den folgenden Jahren mit seiner Familie jahrzehntelang quer durch Europa und wurde schließlich selbst zum Impresario der Gruppe. Wir sprechen in der Folge über die Geschichte der „Völkerschauen“, welche Rolle der Hamburger Carl Hagenbeck darin spielte und warum die letzte „Völkerschau“ bei einer Weltausstellung vorzeitig abgebrochen wurde. Zwei Bücher werden in der Folge erwähnt: „Nayo Bruce. Geschichte einer afrikanischen Familie in Europa“ von Rea Brändle und „Gezähmte Wilde: Die Zurschaustellung exotischer Menschen in Deutschland 1870-1940“ von Anne Dreesbach.\n",
    "\"\"\"\n",
    "\n",
    "completion = openai.ChatCompletion.create(model=\"gpt-3.5-turbo\", messages=[system, {\"role\": \"user\", \"content\": prompt}], temperature=0.7, max_tokens=2048)\n"
   ]
  },
  {
   "cell_type": "code",
   "execution_count": 73,
   "metadata": {},
   "outputs": [],
   "source": [
    "test_compl = completion = openai.ChatCompletion.create(\n",
    "    model=\"gpt-3.5-turbo\", messages=[system, {\"role\": \"user\", \"content\": \"hi there!\"}], temperature=0.7, max_tokens=20)"
   ]
  },
  {
   "cell_type": "code",
   "execution_count": 76,
   "metadata": {},
   "outputs": [
    {
     "data": {
      "text/plain": [
       "'stop'"
      ]
     },
     "execution_count": 76,
     "metadata": {},
     "output_type": "execute_result"
    }
   ],
   "source": [
    "test_compl.choices[0].finish_reason"
   ]
  },
  {
   "cell_type": "code",
   "execution_count": 8,
   "metadata": {},
   "outputs": [
    {
     "data": {
      "text/plain": [
       "{'locations': [{'name': 'Deutsches Kaiserreich',\n",
       "   'context': 'Nayo Bruce kam Ende des 19. Jahrhunderts aus Togo in Westafrika ins Deutsche Kaiserreich',\n",
       "   'coordinates': {}},\n",
       "  {'name': 'Berlin',\n",
       "   'context': 'Im Rahmen der Berliner Gewerbeausstellung 1896 fand eine Kolonialausstellung statt',\n",
       "   'coordinates': {'latitude': 52.52, 'longitude': 13.405}},\n",
       "  {'name': 'Europa',\n",
       "   'context': 'Nayo Bruce zog mit seiner Familie jahrzehntelang quer durch Europa',\n",
       "   'coordinates': {}},\n",
       "  {'name': 'Hamburg',\n",
       "   'context': 'Carl Hagenbeck, der eine entscheidende Rolle bei der Organisation von Völkerschauen spielte, stammte aus Hamburg',\n",
       "   'coordinates': {'latitude': 53.5511, 'longitude': 9.9937}}],\n",
       " 'time': {'description': 'Die Geschichte spielt Ende des 19. Jahrhunderts bis in die ersten Jahrzehnte des 20. Jahrhunderts',\n",
       "  'start_year': 1896,\n",
       "  'end_year': 1940},\n",
       " 'topics': [{'topic_name': 'Völkerschauen',\n",
       "   'description': 'In der Episode wird die Geschichte der Völkerschauen und ihrer Auswirkungen auf die betroffenen Menschen behandelt.'},\n",
       "  {'topic_name': 'Kolonialismus',\n",
       "   'description': 'Die Völkerschauen waren ein Produkt des europäischen Kolonialismus, der in der Episode ebenfalls thematisiert wird.'},\n",
       "  {'topic_name': 'Rassismus',\n",
       "   'description': 'Die Episode beleuchtet auch die rassistischen Motive und Auswirkungen der Völkerschauen'}]}"
      ]
     },
     "execution_count": 8,
     "metadata": {},
     "output_type": "execute_result"
    }
   ],
   "source": [
    "import json\n",
    "\n",
    "response_dict = json.loads(completion.choices[0].message.content)\n",
    "response_dict"
   ]
  },
  {
   "cell_type": "code",
   "execution_count": 24,
   "metadata": {},
   "outputs": [
    {
     "name": "stdout",
     "output_type": "stream",
     "text": [
      "{'locations': [{'name': 'Deutsches Kaiserreich', 'context': 'Nayo Bruce kam Ende des 19. Jahrhunderts aus Togo in Westafrika ins Deutsche Kaiserreich', 'coordinates': {}}, {'name': 'Berlin', 'context': 'Im Rahmen der Berliner Gewerbeausstellung 1896 fand eine Kolonialausstellung statt', 'coordinates': {'latitude': 52.52, 'longitude': 13.405}}, {'name': 'Europa', 'context': 'Nayo Bruce zog mit seiner Familie jahrzehntelang quer durch Europa', 'coordinates': {}}, {'name': 'Hamburg', 'context': 'Carl Hagenbeck, der eine entscheidende Rolle bei der Organisation von Völkerschauen spielte, stammte aus Hamburg', 'coordinates': {'latitude': 53.5511, 'longitude': 9.9937}}, {'name': 'Berlin', 'context': 'Im Rahmen der Berliner Gewerbeausstellung 1896 fand eine Kolonialausstellung statt', 'coordinates': {'latitude': 33.53, 'longitude': 33.455}}, {'name': 'Berlin', 'context': 'Im Rahmen der Berliner Gewerbeausstellung 1896 fand eine Kolonialausstellung statt', 'coordinates': {'latitude': 33.53, 'longitude': 33.455}}, {'name': 'Berlin', 'context': 'Im Rahmen der Berliner Gewerbeausstellung 1896 fand eine Kolonialausstellung statt', 'coordinates': {'latitude': 33.53, 'longitude': 33.455}}, {'name': 'Berlin', 'context': 'Im Rahmen der Berliner Gewerbeausstellung 1896 fand eine Kolonialausstellung statt', 'coordinates': {'latitude': 33.53, 'longitude': 33.455}}], 'time': {'description': 'Die Geschichte spielt Ende des 19. Jahrhunderts bis in die ersten Jahrzehnte des 20. Jahrhunderts', 'start_year': 1896, 'end_year': 1940}, 'topics': [{'topic_name': 'Völkerschauen', 'description': 'In der Episode wird die Geschichte der Völkerschauen und ihrer Auswirkungen auf die betroffenen Menschen behandelt.'}, {'topic_name': 'Kolonialismus', 'description': 'Die Völkerschauen waren ein Produkt des europäischen Kolonialismus, der in der Episode ebenfalls thematisiert wird.'}, {'topic_name': 'Rassismus', 'description': 'Die Episode beleuchtet auch die rassistischen Motive und Auswirkungen der Völkerschauen'}]}\n"
     ]
    }
   ],
   "source": [
    "res_test = response_dict['locations'].append({'name': 'Berlin',\n",
    "   'context': 'Im Rahmen der Berliner Gewerbeausstellung 1896 fand eine Kolonialausstellung statt',\n",
    "   'coordinates': {'latitude': 33.53, 'longitude': 33.455}})\n",
    "\n",
    "print(response_dict)\n"
   ]
  },
  {
   "cell_type": "code",
   "execution_count": 26,
   "metadata": {},
   "outputs": [
    {
     "data": {
      "text/plain": [
       "{'Deutsches Kaiserreich': {'episodes': [{'id': 1337,\n",
       "    'context': 'Nayo Bruce kam Ende des 19. Jahrhunderts aus Togo in Westafrika ins Deutsche Kaiserreich'}],\n",
       "  'coordinates': []},\n",
       " 'Berlin': {'episodes': [{'id': 1337,\n",
       "    'context': 'Im Rahmen der Berliner Gewerbeausstellung 1896 fand eine Kolonialausstellung statt'},\n",
       "   {'id': 1337,\n",
       "    'context': 'Im Rahmen der Berliner Gewerbeausstellung 1896 fand eine Kolonialausstellung statt'},\n",
       "   {'id': 1337,\n",
       "    'context': 'Im Rahmen der Berliner Gewerbeausstellung 1896 fand eine Kolonialausstellung statt'},\n",
       "   {'id': 1337,\n",
       "    'context': 'Im Rahmen der Berliner Gewerbeausstellung 1896 fand eine Kolonialausstellung statt'},\n",
       "   {'id': 1337,\n",
       "    'context': 'Im Rahmen der Berliner Gewerbeausstellung 1896 fand eine Kolonialausstellung statt'}],\n",
       "  'coordinates': [{'latitude': 52.52, 'longitude': 13.405},\n",
       "   {'latitude': 33.53, 'longitude': 33.455},\n",
       "   {'latitude': 33.53, 'longitude': 33.455},\n",
       "   {'latitude': 33.53, 'longitude': 33.455},\n",
       "   {'latitude': 33.53, 'longitude': 33.455}]},\n",
       " 'Europa': {'episodes': [{'id': 1337,\n",
       "    'context': 'Nayo Bruce zog mit seiner Familie jahrzehntelang quer durch Europa'}],\n",
       "  'coordinates': []},\n",
       " 'Hamburg': {'episodes': [{'id': 1337,\n",
       "    'context': 'Carl Hagenbeck, der eine entscheidende Rolle bei der Organisation von Völkerschauen spielte, stammte aus Hamburg'}],\n",
       "  'coordinates': [{'latitude': 53.5511, 'longitude': 9.9937}]}}"
      ]
     },
     "execution_count": 26,
     "metadata": {},
     "output_type": "execute_result"
    }
   ],
   "source": [
    "locations = {}\n",
    "\n",
    "for loc in response_dict['locations']:\n",
    "    if loc['name'] in locations:\n",
    "        locations[loc['name']]['episodes'].append({\"id\": 1337, \"context\": loc['context']})\n",
    "        locations[loc['name']]['coordinates'].append(\n",
    "            {'latitude': loc['coordinates']['latitude'], 'longitude': loc['coordinates']['longitude']})\n",
    "    else:\n",
    "        if loc['coordinates']:\n",
    "            locations[loc['name']] = {\n",
    "                \"episodes\": [{\"id\": 1337, \"context\": loc['context']}], \n",
    "                \"coordinates\": [{'latitude': loc['coordinates']['latitude'], 'longitude': loc['coordinates']['longitude']}]\n",
    "                }\n",
    "        else:\n",
    "            locations[loc['name']] = {\n",
    "                \"episodes\": [{\"id\": 1337, \"context\": loc['context']}], \"coordinates\": []\n",
    "            }\n",
    "        \n",
    "locations"
   ]
  },
  {
   "cell_type": "code",
   "execution_count": 59,
   "metadata": {},
   "outputs": [
    {
     "data": {
      "text/plain": [
       "[{'id': 1337,\n",
       "  'context': 'Carl Hagenbeck, der eine entscheidende Rolle bei der Organisation von Völkerschauen spielte, stammte aus Hamburg'}]"
      ]
     },
     "execution_count": 59,
     "metadata": {},
     "output_type": "execute_result"
    }
   ],
   "source": [
    "values = []\n",
    "\n",
    "for loc, data in locations.items():\n",
    "    episodes = data['episodes']\n",
    "    coords = data['episodes']\n",
    "\n",
    "    episode_values = [tuple([loc,  ep['id'],  ep['context']])\n",
    "                        for ep in episodes]\n",
    "    # coord_values = [tuple([loc,  coord['longitude'],  coord['latitude']])\n",
    "    #                 for coord in coords]\n",
    "    \n",
    "coords\n"
   ]
  },
  {
   "cell_type": "code",
   "execution_count": 56,
   "metadata": {},
   "outputs": [],
   "source": [
    "topics = {}\n",
    "\n",
    "for topic in response_dict['topics']:\n",
    "    if topic['topic_name'] in topics:\n",
    "        topics[topic['topic_name']].append(\n",
    "            {\"id\": 1337, \"context\": topic['description']})\n",
    "    else:\n",
    "        topics[topic['topic_name']] = [{\"id\": 1337, \"context\": topic['description']}]\n",
    "        \n",
    "topics\n",
    "\n",
    "topics['Rassismus'].append({'id':432, 'context': \"ficken\"})\n"
   ]
  },
  {
   "cell_type": "code",
   "execution_count": 57,
   "metadata": {},
   "outputs": [
    {
     "name": "stdout",
     "output_type": "stream",
     "text": [
      "[{'id': 1337, 'context': 'In der Episode wird die Geschichte der Völkerschauen und ihrer Auswirkungen auf die betroffenen Menschen behandelt.'}]\n",
      "[{'id': 1337, 'context': 'Die Völkerschauen waren ein Produkt des europäischen Kolonialismus, der in der Episode ebenfalls thematisiert wird.'}]\n",
      "[{'id': 1337, 'context': 'Die Episode beleuchtet auch die rassistischen Motive und Auswirkungen der Völkerschauen'}, {'id': 432, 'context': 'ficken'}]\n"
     ]
    },
    {
     "data": {
      "text/plain": [
       "[('Rassismus',\n",
       "  1337,\n",
       "  'Die Episode beleuchtet auch die rassistischen Motive und Auswirkungen der Völkerschauen'),\n",
       " ('Rassismus', 432, 'ficken')]"
      ]
     },
     "execution_count": 57,
     "metadata": {},
     "output_type": "execute_result"
    }
   ],
   "source": [
    "for top, epidsodes in topics.items():\n",
    "    print(epidsodes)\n",
    "    values = [tuple([top, ep['id'], ep['context']]) for ep in epidsodes]\n",
    "\n",
    "values"
   ]
  },
  {
   "cell_type": "code",
   "execution_count": 72,
   "metadata": {},
   "outputs": [
    {
     "data": {
      "text/plain": [
       "[('123',\n",
       "  1896,\n",
       "  1940,\n",
       "  'Die Geschichte spielt Ende des 19. Jahrhunderts bis in die ersten Jahrzehnte des 20. Jahrhunderts')]"
      ]
     },
     "execution_count": 72,
     "metadata": {},
     "output_type": "execute_result"
    }
   ],
   "source": [
    "times = {}\n",
    "\n",
    "times['123'] = response_dict['time']\n",
    "\n",
    "for episode_id, ti in times.items():\n",
    "    values = [tuple([episode_id, ti['start_year'],\n",
    "                    ti['end_year'], ti['description']])]\n",
    "values\n"
   ]
  },
  {
   "cell_type": "code",
   "execution_count": 63,
   "metadata": {},
   "outputs": [
    {
     "data": {
      "text/plain": [
       "{'locations': [{'name': 'Deutsches Kaiserreich',\n",
       "   'context': 'Nayo Bruce kam Ende des 19. Jahrhunderts aus Togo in Westafrika ins Deutsche Kaiserreich',\n",
       "   'coordinates': {}},\n",
       "  {'name': 'Berlin',\n",
       "   'context': 'Im Rahmen der Berliner Gewerbeausstellung 1896 fand eine Kolonialausstellung statt',\n",
       "   'coordinates': {'latitude': 52.52, 'longitude': 13.405}},\n",
       "  {'name': 'Europa',\n",
       "   'context': 'Nayo Bruce zog mit seiner Familie jahrzehntelang quer durch Europa',\n",
       "   'coordinates': {}},\n",
       "  {'name': 'Hamburg',\n",
       "   'context': 'Carl Hagenbeck, der eine entscheidende Rolle bei der Organisation von Völkerschauen spielte, stammte aus Hamburg',\n",
       "   'coordinates': {'latitude': 53.5511, 'longitude': 9.9937}},\n",
       "  {'name': 'Berlin',\n",
       "   'context': 'Im Rahmen der Berliner Gewerbeausstellung 1896 fand eine Kolonialausstellung statt',\n",
       "   'coordinates': {'latitude': 33.53, 'longitude': 33.455}},\n",
       "  {'name': 'Berlin',\n",
       "   'context': 'Im Rahmen der Berliner Gewerbeausstellung 1896 fand eine Kolonialausstellung statt',\n",
       "   'coordinates': {'latitude': 33.53, 'longitude': 33.455}},\n",
       "  {'name': 'Berlin',\n",
       "   'context': 'Im Rahmen der Berliner Gewerbeausstellung 1896 fand eine Kolonialausstellung statt',\n",
       "   'coordinates': {'latitude': 33.53, 'longitude': 33.455}},\n",
       "  {'name': 'Berlin',\n",
       "   'context': 'Im Rahmen der Berliner Gewerbeausstellung 1896 fand eine Kolonialausstellung statt',\n",
       "   'coordinates': {'latitude': 33.53, 'longitude': 33.455}}],\n",
       " 'time': {'description': 'Die Geschichte spielt Ende des 19. Jahrhunderts bis in die ersten Jahrzehnte des 20. Jahrhunderts',\n",
       "  'start_year': 1896,\n",
       "  'end_year': 1940},\n",
       " 'topics': [{'topic_name': 'Völkerschauen',\n",
       "   'description': 'In der Episode wird die Geschichte der Völkerschauen und ihrer Auswirkungen auf die betroffenen Menschen behandelt.'},\n",
       "  {'topic_name': 'Kolonialismus',\n",
       "   'description': 'Die Völkerschauen waren ein Produkt des europäischen Kolonialismus, der in der Episode ebenfalls thematisiert wird.'},\n",
       "  {'topic_name': 'Rassismus',\n",
       "   'description': 'Die Episode beleuchtet auch die rassistischen Motive und Auswirkungen der Völkerschauen'}]}"
      ]
     },
     "execution_count": 63,
     "metadata": {},
     "output_type": "execute_result"
    }
   ],
   "source": [
    "response_dict\n"
   ]
  },
  {
   "cell_type": "code",
   "execution_count": null,
   "metadata": {},
   "outputs": [],
   "source": []
  }
 ],
 "metadata": {
  "kernelspec": {
   "display_name": "kag_airflow",
   "language": "python",
   "name": "python3"
  },
  "language_info": {
   "codemirror_mode": {
    "name": "ipython",
    "version": 3
   },
   "file_extension": ".py",
   "mimetype": "text/x-python",
   "name": "python",
   "nbconvert_exporter": "python",
   "pygments_lexer": "ipython3",
   "version": "3.10.9"
  },
  "orig_nbformat": 4
 },
 "nbformat": 4,
 "nbformat_minor": 2
}
