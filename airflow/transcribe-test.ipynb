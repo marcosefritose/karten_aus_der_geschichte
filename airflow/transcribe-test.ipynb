{
 "cells": [
  {
   "cell_type": "code",
   "execution_count": 1,
   "metadata": {},
   "outputs": [
    {
     "data": {
      "text/plain": [
       "50709714"
      ]
     },
     "execution_count": 1,
     "metadata": {},
     "output_type": "execute_result"
    }
   ],
   "source": [
    "# Download Entire first episode for transcription test\n",
    "import requests\n",
    "\n",
    "episode_link = 'https://audio.podigee-cdn.net/1038341-m-1864d1131f1e7fdf980b1a120d7336c1.mp3?source=feed'\n",
    "episode_file = requests.get(episode_link, allow_redirects=True)\n",
    "open('GAG388.mp3', 'wb').write(episode_file.content)"
   ]
  },
  {
   "cell_type": "code",
   "execution_count": 16,
   "metadata": {},
   "outputs": [
    {
     "data": {
      "text/plain": [
       "<_io.BufferedRandom name='GAG001_sample.mp3'>"
      ]
     },
     "execution_count": 16,
     "metadata": {},
     "output_type": "execute_result"
    }
   ],
   "source": [
    "# Cut out first 60 seconds as fast sample\n",
    "from pydub import AudioSegment\n",
    "\n",
    "sound = AudioSegment.from_mp3(\"GAG001.mp3\")\n",
    "sound.set_channels(1)\n",
    "sound.set_frame_rate(16000)\n",
    "\n",
    "#Selecting Portion we want to cut\n",
    "StrtMin = 0\n",
    "StrtSec = 0\n",
    "EndMin = 0\n",
    "EndSec = 60\n",
    "\n",
    "# Time to milliseconds conversion\n",
    "StrtTime = StrtMin*60*1000+StrtSec*1000\n",
    "EndTime = StrtMin*60*1000+EndSec*1000\n",
    "# Opening file and extracting portion of it\n",
    "extract = sound[StrtTime:EndTime]\n",
    "# Saving file in required location\n",
    "extract.export(\"GAG001_sample.mp3\", format=\"mp3\")"
   ]
  },
  {
   "cell_type": "code",
   "execution_count": 9,
   "metadata": {},
   "outputs": [],
   "source": [
    "import requests\n",
    "import os\n",
    "\n",
    "API_TOKEN = os.environ['HF_TOKEN']\n",
    "API_URL = \"https://api-inference.huggingface.co/models/bofenghuang/whisper-small-cv11-german\"\n",
    "headers = {\"Authorization\": f\"Bearer {API_TOKEN}\"}\n",
    "\n",
    "def query(filename):\n",
    "    with open(filename, \"rb\") as f:\n",
    "        data = f.read()\n",
    "    response = requests.post(API_URL, headers=headers, data=data)\n",
    "    return response\n",
    "\n",
    "output = query(\"GAG001.mp3\")"
   ]
  },
  {
   "cell_type": "code",
   "execution_count": 7,
   "metadata": {},
   "outputs": [
    {
     "data": {
      "text/plain": [
       "{'text': \"Hallo, liebe Hörerinnen und Hörer, wir melden uns kurz aus der Zukunft. Seit Folge zweihundertsitzig heißt dieser Podcast Geschichten aus der Geschichte. Mehr dazu findet ihr unter geschichte.fm. Und jetzt geht's zurück in die Vergangenheit viel Spaß.\"}"
      ]
     },
     "execution_count": 7,
     "metadata": {},
     "output_type": "execute_result"
    }
   ],
   "source": [
    "output"
   ]
  },
  {
   "cell_type": "code",
   "execution_count": null,
   "metadata": {},
   "outputs": [],
   "source": [
    "import torch\n",
    "\n",
    "from transformers import pipeline\n",
    "\n",
    "device = torch.device(\"cuda:0\" if torch.cuda.is_available() else \"cpu\")\n",
    "\n",
    "# Load pipeline\n",
    "pipe = pipeline(\"automatic-speech-recognition\", model=\"bofenghuang/whisper-small-cv11-german\",chunk_length_s=30, device=device)"
   ]
  },
  {
   "cell_type": "markdown",
   "metadata": {},
   "source": []
  },
  {
   "cell_type": "code",
   "execution_count": 3,
   "metadata": {},
   "outputs": [
    {
     "name": "stderr",
     "output_type": "stream",
     "text": [
      "/Users/marcgehrke/miniconda3/envs/kag_airflow/lib/python3.10/site-packages/transformers/generation/utils.py:1273: UserWarning: Neither `max_length` nor `max_new_tokens` has been set, `max_length` will default to 448 (`generation_config.max_length`). Controlling `max_length` via the config is deprecated and `max_length` will be removed from the config in v5 of Transformers -- we recommend using `max_new_tokens` to control the maximum length of the generation.\n",
      "  warnings.warn(\n"
     ]
    },
    {
     "data": {
      "text/plain": [
       "{'text': \"Hallo, liebe Hörerinnen und Hörer, wir melden uns kurz aus der Zukunft. Seit Folge zweihundertsitzig heißt dieser Podcast Geschichten aus der Geschichte. Mehr dazu findet ihr unter Geschichte.fm. Und jetzt geht's zurück in die Vergangenheit viel Spaß.Werden ein bisschen Geschichte, dann werden Sainte Daimorta wieder sich damals entwicklen können. Hallo und willkommen zu Zeitsprung Geschichten aus der Geschichte Ich bin Daniel und ich bin Richard. Und bei Zeitsprungen präsentieren wir euch vergessehene eigenes Waschen-Ereignis und Zusammenhänge der Geschichte in kurzen Episoden häufig mit ein bisschen Augenzwingern, aber immer quälner recherchiert. Und du, Richard, hast du eine Geschichte mitgebracht? Ja, ich habe eine Geschichte mitgebracht. Findest du diese sehr gute Anfangsgeschichte, weil sie uns gleich einmal sehr, sehr tief in die Geschichte eintauchen lässt, und zwar ins frühe Mittelalter. Frühes Mittelalter heißt, in dem Fall sechstes Jahrhundert nach Christus, und der Protagonist unserer Geschichte ist ein Langobarnenkönig. Wie viele Langobarnkönige kennst du?Wat lassen Sie mir durchzählen? Ich kenne kein einzigen Langebadenkönig, wenn ich kenne. Gut, dann kennst du jetzt gleich einen mehr, und wenn wir fertig sind mit der Geschichte, dann kennst du zwei, drei mehr sogar.Der, den sie jetzt geht, ist ein gewisser Albuin. Albuin war Langebadenkönig und zwar war er der Langebadenkönig, mit dem die Langebaden in Italien eingefallen. Es ist nicht ganz klar, warum sie nach Italien gegangen sind, es gibt unterschiedliche Hinweise. Entweder wollten die Voltostrom die Langobarden in Italien haben, damit sie ein bisschen Gegengewicht sind zu den Ortsgeordnen beziehungsweise den Franken, es gibt aber auch die Theorien, dass die Langobarden mehr oder weniger vor den Awaren geflüchtet sind, die damals in ihrem Wirkungsbereich relativ umtriebig waren. in Italien eingefallen sind und eigentlich relativ leicht das Spiel gehabt haben, und im Jahr fünfundazweiundsebzig, also laut Palos Diakonus, von dem wir das haben, ungefähr drei Jahre sechs Monate später, ist Albuin dann in, hat er dann Pavia eingenommen, und Pavia hat er ungefähr drei Jahre lang belagert.Das war seine Regierungszeit, war quasi die Belagerung von Pavia, weil er war ja nicht mehr oder weniger.Also er war vorischer König, bevor sie nach Italien aufgebrochen sind, aber das war im Grund seiner Italienzeiter, war mehr oder weniger damit beschäftigt, Pavia zu belagern. Und auf jeden Fall Pavia hatte fünfundundzeunzehntiebzig einnehmen können, und dann passiert es, dass es eigentlich geht in dieser Geschichte, dann war seine Regierungszeit relativ schnell zu Ende und zwar, weil er ermordet worden ist.Bevor du jetzt die Geschichte erzählst, bin ich ein bisschen verwirrt von den ganzen Völkern, die du erwähnt hast, also die Langebaden und die Erranglern, die er waren. Warum ist denn das überhaupt zu diesem Zeitpunkt der so frühes Mittelalter, du sagst so, sechstes Jahrhundert ungefähr? Warum ist es da überhaupt so ein großes Thema? Naja, der Elefant im Raum will es halt, dass das weströmische Reich ja nicht mehr existiert hat. Das heißt, es war im Grund Italien und dieser ganze Bereiche, eben auch Gallien und so weiter, da war keine weströmische Struktume, aber das GmbH war halt das auströmische Reich, und die haben versucht natürlich auch weiterhin, irgendwie Einfluss zu üben, aber war natürlich weit weg und haben nicht den Einflusskapitän des Weströmischen Reichs gehabt. Und dann haben natürlich die unterschiedlichen Völker sicher in den Gegenbreit gemacht, also keine Ahnung. Wir haben dann so Nordafrika und Spanien und Galien und Italien unter haben wir die ganzen unterschiedlichen Völkerkapitän, die natürlich schauten, dass sie so viel wie möglich von diesem Kuchen, der jetzt quasi zur Verfügung steht, abkring.Eine Gruppe davon waren die Langebaden und Albuin war ihr König. Was denkst du, warum erzählte ich mal Geschichte über ein Mord, weil viele Morde sind damals passiert, weil wieso ist das relativ schwierig? -Er ist ein politischer Gegner, der einen Spion einschleusen konnte, der ihn auf ziemlich hinterhältige Weise umgebracht hat. Interessant, gute Theorie ist auch öfter passiert sowas in die Richtung, aber es war nicht ein politischer Gegner, es war seine eigene Frau. Also seine eigene Frau, die ihn wahrscheinlich nicht mit ihren eigenen Händen ermordet, aber sie war beteiligt an einem Komplott gemeinsam mit anderen Langebaden, ihn umzubringen. Jetzt ist die Frage, warum wolle seine eigene Frau ihn ermorden lassen? Na ja, weil sie war sehr wenig freiwillig geheiratet und er war wahrscheinlich ein ziemlicher Ungustel. Beides richtig. Beides richtig. Vielleicht lass mal einfach Paulus Diakanus, der das aufgeschrieben hat, sodass wir heute wissen, was damals wahrscheinlich passiert ist, selbst sprechen. Wir haben da eine schöne Aufnahme. Ja, also es spricht Paulus Diakanus, doch es spricht Paulus Diakanus in Form von Thomas Lohninger.Nachdem der König in Italien drei Jahre und sechs Monate regiert hatte, wurde er durch den Verrat seiner Frau ermordet. Der Grund für den Mord war dieser. Nachdem er länger, als es gebürlich war, bei einem Bankett in Verona gefeiert hatte, mit dem Becher, den er aus dem Kopf seines Schwiegervaters Cunymund herstellen hatte lassen, befahl er ihn, seiner Frau zu geben, umweilen zu trinken, und er lud sie ein, fröhlich mit ihrem Vater zu trinken. Horn und so sich so Bäche gebastelt. Aber ich glaube, es ist ein gewisser Unterschied, ob du jetzt so Horn von einem Tier hast, also ein Teil von oder ob du aus seinen Kopf eines Menschen nimmst und ihn entsprechend präparierst, damit du Wahlen raustrinken kannst.Es ist halt die Frage, wieso hat er überhaupt den Schädel des Vaters seiner Frau gehabt, auch relativ unüblich. In dem Fall war so Cunimumt, der Vater seiner Frau, der war, als er noch gelebt hat, König der Gipäden auch ein Volk und das so in der Gegend der Langobaden aktiv war, die aber schon längere Zeit im Konflikt mit den Langobaden waren und die Langobaden haben im Jahr fünfsechzig, also ein Jahr bevor sie aufgebrochen sind nach Italien.Und hat dann einfach die Tochter des Kunimum zur Frau genommen und war offenbar jemand, der der Meinung war, dass sie gemeinsam mit anderen Langobaden diese Verschwörung angezettelt hat, dem zugedessen dann der Alguin ermordet waren. Lass uns doch mal über den Paulistiakonus war gelehrter am langobadischen Königshof in Pavia, allerdings hat er diese Geschichte der Langobaden ungefähr hundert-zweihundert Jahre später aufgeschrieben, also so Ende des achten Jahrhunderts.Also er hat eben die Geschichte der Langobarden aufgeschrieben, allerdings ist es nicht ganz so schlimm, wie man denken würde, also so was, was die Zeitspanne angeht, die dazwischenlegt, weil er hat seine Geschichte auf einer anderen Quelle basieren lassen, nämlich auf der Geschichte der Langobarden, eines gewissen Bischofsekundus von Trient und dieser Bischofsekundus von Trient hat am Hof eines anderen Langebaden-Königs gelebt, nämlich am Hof des Agilulf. Und Agilulf hingegen war ein Langebaden-König, der mehr oder weniger um diese Zeit herum gelebt hat als es passiert ist, also sagen wir mal zehn, zwanzig Jahre später, sein oder zehn Jahre später sogar also nicht wahnsinnig lang. Das ist jetzt der zweite, zweitensagelangste, den du versprochen hast, dass ich den Kenenlern, also den Albuin, den Aggie-Lulf, und du hast aber noch von einem dritten, glaube ich, geredet.In dem Fall wirst du am Ende der Geschichte sogar vier kennen, weil was passiert ist nachdem die Rosemund ihren Ehemann umbringen lassen. Sie ist dann nach Erwender geflohen mit anderen Langobarden, also wirks wahrscheinlich denen, die ja auch beteiligt waren an dem Komplott. Und die Langobarden haben daraufhin einen neuen König erwählt und dieser neue König hieß Clef , also C-L-E-P-H. Clef war kein besonders erfolgreicher Königin, scheinhalb weil er nur achtzehn Monate regiert hat, nach achtzehn Monaten wurde er nämlich auch ermordet, nett und seine Frau sind von einem Sklav. Daraufhin haben sich die langobadischen Herzöge gedacht, sie haben gelust mehr auf weitere Könige für Zeit, und haben dann einfach zehn Jahre lang keinen König mehr gewählt.Gab es einfach keine Könige im Langebadenreich, also unter den Langebaden in Italien.Aber die Langebaden und sich sind jetzt nicht untergegangen nach dieser...Na, die Langebaden, die im Gegenteil, diese Zeit, also dieses Interregnum, ja, sind auch einige interessante Dinge passiert. Also sie haben vor allem ziemlich, sie waren relativ aggressiv gegenüber dem Merovingischen Franken, die im benachbarten Gallien hauptsächlich waren. Ansonsten waren sie auch relativ umträbig.Im Jahr fünfvierundachtig, also ziemlich am Ende dieses Interregnums, hat sogar der oströmische Kaiser Interesse dran gehabt, dass die Franken gegen die Langobaden vorgehen und angeblich hat er fünfzigtausend Solidi an König Kildebert. Solidi? Solidi, mehr Teil von Solidus. Was ist das für eine Währung?Sowohl in der wirklich Zahlungsmittel, also der war zu wertvoll, niemander auf uns Solitus rausgeben könne. Aber diese fünfzigtausend Soli, die sollen halt einfach zeigen, dass dem roströmischen König, dass es ihm viel wert war, dass gegen die Langobaden vorgangen wird, König Kedewehr dieser auch dann in Zweckitzung gegen die Langebaden, aber war noch erfolgreich.Kildebett ist der Merovinger, der zu dem Zeitpunkt aner machte. Einer der, ja. Es ist ja rundgangen in der Gegend die Zeit der, so die Merovingischen Franken haben zur gleichen Zeit an Bürgerkrieg gehabt und eignen, weil dort, ja, das war schwierig, weil das Reich war nicht einreich, sondern es waren mehrere Teilreiche, die Könige hatten, die alle Brüder waren. Und einer der Brüder ist relativ früh gestorben, und die drei anderen Brüder haben dann gekämpft dieses Erbe, das Karibert-Erbe. Ich glaube, wir machen aber ja noch mal dazu. - Ja, machen wir eigene Folgen drüber. Das ist nämlich auch sehr spannend, es sollte man auf jeden Fall.Jedenfalls, ja, es war sowieso Tumult in dieser Gegend die Zeitraum. Jedenfalls Gedebärter Zweite ist ins Fakie zu gegen die Langobadennetze erfolgreich, und die Langobaden haben dann fünf, vierundachtigerneuen langobadischen König erwählt, und dieser langobadische König ersetzte vierte den Okrennen-Lerns, nämlich Autari.Dieser Autari, der war sehr beliebt und ist auch gleich ökonomisch legitimiert worden, wenn man so über die Herzöge, die Langobadischen haben ihm gleich die Hälfte ihres Vermögens zur Verfügung gestellt, seine Herrschaft auch auf gute ökonomische Basis zu stellen. Und dieser König Autari, der hat dann die Tochter des Bayo-Warischen Herzogs Garibald geheiratet, die Theodilinder und seinem Jahr fünfundneunundachtzig, einige Jahre später nachdem er König geworden ist, ist dann aber leider schon im Jahr fünfundneunzig, also ein Jahr später gestorben, und die Theodilinda, sie zu konsolidieren, oder dafür zu sagen, dass nicht wieder so ein Wachtmakum entsteht, die hat dann einen gewissen Agilulf geheiratet.Ich bin gespannt, dass ist das Theodilinder, höchstwahrscheinlich ist es nicht ganz sicher, aber dass sie die Schwester des Tassilow war. Tassilow wiederum war wer? Tassilow war der von dem Frankenkönig Kildebert eingesetzte König des Baujau-Wahrenreichs, also ursprünglich Herzog der Bayern, und Kedebert hat ihn dann fünfundneunneunzig zum König eingesetzt. Ok, das heißt, ich habe jetzt vier Langebahnenkönige kennengelernt, den Albuin, den Kles, den Autari und den Agidulf, dazu noch den Gipidenkönig Kunimund, seine Tochter die Rosa-Munde. Und am Ende wissen wir dann trotzdem nicht, ob die Geschichte überhaupt stattgefunden hat, weil eventuell hat Paulus Diakonis nur einfach irgendeine Geschichte gebraucht, den Mord zu rechtfertigen. Ja, natürlich, es gibt ja auch noch andere Legenden, die besagen, dass der eigentliche Konflikt zwischen den Langomunds, umgebracht hat oder dafür gesagt, dass er im Zuge des Konflikts stirbt. Ob der Alba ihn jetzt wirklich so ein ungarter Kerl war, dass er als der Tochter des Toten, den Schädel des Toten, zum Gebt, aus Wein zu trinken, das wissen wir nicht, da müssen wir uns auf Paulus Diakanus verlassen beziehungsweise auf den Sekundus von Trient? Man muss natürlich immer bei solchen Sachen bedenken, dass, wie auch immer dieser Geschichte geschrieben hat, hat sie am Hof, hat sie oft am Hof jener gemacht über die er schreibt, das heißt, die Kreueltaten sind wahrscheinlich weniger ausführlich dargestellt als die Wundertaten beim Müssewelen. Ich würde sagen, Belassungsmul dabei oder gibt's noch was, was du der Geschichte hinzufügen wollen würdest? Nicht zu diesem Zeitpunkt, Daniel. Dann würde ich sagen, auf Abschieden uns mal danke fürs Zuhören. Danke. Wir freuen uns über Feedback, zum Beispiel Feedback@zeitsprung.fm. Hinterlass ein Kommentar, bewertet uns auf iTunes und lasst uns hören, was wir von Zeitsprung haltet. Wichtig noch zu sagen, die Band Radar hat den Jingle ermöglicht, wir dürfen nämlich einen Teil eines Songs für den Jingle verwenden. Der Link zum Song gibt es natürlich auf der Webseite Zeitsprung.fm. Und das letzte Wort gehört wie immer Bruno Kreski.Werden singen, der Epoch wieder sich damals endlich führersamt!\",\n",
       " 'chunks': [{'text': \"Hallo, liebe Hörerinnen und Hörer, wir melden uns kurz aus der Zukunft. Seit Folge zweihundertsitzig heißt dieser Podcast Geschichten aus der Geschichte. Mehr dazu findet ihr unter Geschichte.fm. Und jetzt geht's zurück in die Vergangenheit viel Spaß.\",\n",
       "   'timestamp': (0.0, 15.0)},\n",
       "  {'text': 'Werden ein bisschen Geschichte, dann werden Sainte Daimorta wieder sich damals entwicklen können.',\n",
       "   'timestamp': (15.0, 23.0)},\n",
       "  {'text': ' Hallo und willkommen zu Zeitsprung Geschichten aus der Geschichte Ich bin Daniel und ich bin Richard.',\n",
       "   'timestamp': (23.0, 30.0)},\n",
       "  {'text': ' Und bei Zeitsprungen präsentieren wir euch vergessehene eigenes Waschen-Ereignis und Zusammenhänge der Geschichte in kurzen Episoden häufig mit ein bisschen Augenzwingern, aber immer quälner recherchiert. Und du, Richard, hast du eine Geschichte mitgebracht?',\n",
       "   'timestamp': (30.0, 54.5)},\n",
       "  {'text': ' Ja, ich habe eine Geschichte mitgebracht. Findest du diese sehr gute Anfangsgeschichte, weil sie uns gleich einmal sehr, sehr tief in die Geschichte eintauchen lässt, und zwar ins frühe Mittelalter.',\n",
       "   'timestamp': (54.5, 71.0)},\n",
       "  {'text': ' Frühes Mittelalter heißt, in dem Fall sechstes Jahrhundert nach Christus, und der Protagonist unserer Geschichte ist ein Langobarnenkönig.',\n",
       "   'timestamp': (71.0, 87.0)},\n",
       "  {'text': ' Wie viele Langobarnkönige kennst du?', 'timestamp': (87.0, 88.4)},\n",
       "  {'text': 'Wat lassen Sie mir durchzählen? Ich kenne kein einzigen Langebadenkönig, wenn ich kenne.',\n",
       "   'timestamp': (88.4, 93.60000000000001)},\n",
       "  {'text': ' Gut, dann kennst du jetzt gleich einen mehr, und wenn wir fertig sind mit der Geschichte, dann kennst du zwei, drei mehr sogar.',\n",
       "   'timestamp': (93.60000000000001, 100.0)},\n",
       "  {'text': 'Der, den sie jetzt geht, ist ein gewisser Albuin. Albuin war Langebadenkönig und zwar war er der Langebadenkönig, mit dem die Langebaden in Italien eingefallen. Es ist nicht ganz klar, warum sie nach Italien gegangen sind, es gibt unterschiedliche Hinweise.',\n",
       "   'timestamp': (100.0, 130.0)},\n",
       "  {'text': ' Entweder wollten die Voltostrom die Langobarden in Italien haben, damit sie ein bisschen Gegengewicht sind zu den Ortsgeordnen beziehungsweise den Franken, es gibt aber auch die Theorien, dass die Langobarden mehr oder weniger vor den Awaren geflüchtet sind, die damals in ihrem Wirkungsbereich relativ umtriebig waren.',\n",
       "   'timestamp': (130.0, 156.0)},\n",
       "  {'text': ' in Italien eingefallen sind und eigentlich relativ leicht das Spiel gehabt haben, und im Jahr fünfundazweiundsebzig, also laut Palos Diakonus, von dem wir das haben, ungefähr drei Jahre sechs Monate später, ist Albuin dann in, hat er dann Pavia eingenommen, und Pavia hat er ungefähr drei Jahre lang belagert.',\n",
       "   'timestamp': (156.0, 188.8)},\n",
       "  {'text': 'Das war seine Regierungszeit, war quasi die Belagerung von Pavia, weil er war ja nicht mehr oder weniger.',\n",
       "   'timestamp': (188.8, 195.0)},\n",
       "  {'text': 'Also er war vorischer König, bevor sie nach Italien aufgebrochen sind, aber das war im Grund seiner Italienzeiter, war mehr oder weniger damit beschäftigt, Pavia zu belagern.',\n",
       "   'timestamp': (195.0, 207.0)},\n",
       "  {'text': ' Und auf jeden Fall Pavia hatte fünfundundzeunzehntiebzig einnehmen können, und dann passiert es, dass es eigentlich geht in dieser Geschichte, dann war seine Regierungszeit relativ schnell zu Ende und zwar, weil er ermordet worden ist.',\n",
       "   'timestamp': (207.0, 222.0)},\n",
       "  {'text': 'Bevor du jetzt die Geschichte erzählst, bin ich ein bisschen verwirrt von den ganzen Völkern, die du erwähnt hast, also die Langebaden und die Erranglern, die er waren.',\n",
       "   'timestamp': (222.0, 232.0)},\n",
       "  {'text': ' Warum ist denn das überhaupt zu diesem Zeitpunkt der so frühes Mittelalter, du sagst so, sechstes Jahrhundert ungefähr?',\n",
       "   'timestamp': (232.0, 238.0)},\n",
       "  {'text': ' Warum ist es da überhaupt so ein großes Thema?',\n",
       "   'timestamp': (238.0, 241.0)},\n",
       "  {'text': ' Naja, der Elefant im Raum will es halt, dass das weströmische Reich ja nicht mehr existiert hat.',\n",
       "   'timestamp': (241.0, 251.0)},\n",
       "  {'text': ' Das heißt, es war im Grund Italien und dieser ganze Bereiche, eben auch Gallien und so weiter, da war keine weströmische Struktume, aber das GmbH war halt das auströmische Reich, und die haben versucht natürlich auch weiterhin, irgendwie Einfluss zu üben, aber war natürlich weit weg und haben nicht den Einflusskapitän des Weströmischen Reichs gehabt. Und dann haben natürlich die unterschiedlichen Völker sicher in den Gegenbreit gemacht, also keine Ahnung. Wir haben dann so Nordafrika und Spanien und Galien und Italien unter haben wir die ganzen unterschiedlichen Völkerkapitän, die natürlich schauten, dass sie so viel wie möglich von diesem Kuchen, der jetzt quasi zur Verfügung steht, abkring.',\n",
       "   'timestamp': (251.0, 290.0)},\n",
       "  {'text': 'Eine Gruppe davon waren die Langebaden und Albuin war ihr König. Was denkst du, warum erzählte ich mal Geschichte über ein Mord, weil viele Morde sind damals passiert, weil wieso ist das relativ schwierig? -Er ist ein politischer Gegner, der einen Spion einschleusen konnte, der ihn auf ziemlich hinterhältige Weise umgebracht hat.',\n",
       "   'timestamp': (290.0, 310.0)},\n",
       "  {'text': ' Interessant, gute Theorie ist auch öfter passiert sowas in die Richtung, aber es war nicht ein politischer Gegner, es war seine eigene Frau. Also seine eigene Frau, die ihn wahrscheinlich nicht mit ihren eigenen Händen ermordet, aber sie war beteiligt an einem Komplott gemeinsam mit anderen Langebaden, ihn umzubringen.',\n",
       "   'timestamp': (310.0, 329.2)},\n",
       "  {'text': ' Jetzt ist die Frage, warum wolle seine eigene Frau ihn ermorden lassen?',\n",
       "   'timestamp': (329.2, 333.0)},\n",
       "  {'text': ' Na ja, weil sie war sehr wenig freiwillig geheiratet und er war wahrscheinlich ein ziemlicher Ungustel.',\n",
       "   'timestamp': (333.0, 340.0)},\n",
       "  {'text': ' Beides richtig. Beides richtig. Vielleicht lass mal einfach Paulus Diakanus, der das aufgeschrieben hat, sodass wir heute wissen, was damals wahrscheinlich passiert ist, selbst sprechen. Wir haben da eine schöne Aufnahme. Ja, also es spricht Paulus Diakanus, doch es spricht Paulus Diakanus in Form von Thomas Lohninger.',\n",
       "   'timestamp': (340.0, 363.0)},\n",
       "  {'text': 'Nachdem der König in Italien drei Jahre und sechs Monate regiert hatte, wurde er durch den Verrat seiner Frau ermordet. Der Grund für den Mord war dieser. Nachdem er länger, als es gebürlich war, bei einem Bankett in Verona gefeiert hatte, mit dem Becher, den er aus dem Kopf seines Schwiegervaters Cunymund herstellen hatte lassen, befahl er ihn, seiner Frau zu geben, umweilen zu trinken, und er lud sie ein, fröhlich mit ihrem Vater zu trinken.',\n",
       "   'timestamp': (363.0, 394.0)},\n",
       "  {'text': ' Horn und so sich so Bäche gebastelt. Aber ich glaube, es ist ein gewisser Unterschied, ob du jetzt so Horn von einem Tier hast, also ein Teil von oder ob du aus seinen Kopf eines Menschen nimmst und ihn entsprechend präparierst, damit du Wahlen raustrinken kannst.',\n",
       "   'timestamp': (394.0, 409.0)},\n",
       "  {'text': 'Es ist halt die Frage, wieso hat er überhaupt den Schädel des Vaters seiner Frau gehabt, auch relativ unüblich.',\n",
       "   'timestamp': (409.0, 416.90000000000003)},\n",
       "  {'text': ' In dem Fall war so Cunimumt, der Vater seiner Frau, der war, als er noch gelebt hat, König der Gipäden auch ein Volk und das so in der Gegend der Langobaden aktiv war, die aber schon längere Zeit im Konflikt mit den Langobaden waren und die Langobaden haben im Jahr fünfsechzig, also ein Jahr bevor sie aufgebrochen sind nach Italien.',\n",
       "   'timestamp': (416.90000000000003, 438.98)},\n",
       "  {'text': 'Und hat dann einfach die Tochter des Kunimum zur Frau genommen und war offenbar jemand, der',\n",
       "   'timestamp': (438.98, 449.3)},\n",
       "  {'text': ' der Meinung war, dass sie gemeinsam mit anderen Langobaden diese Verschwörung angezettelt hat, dem zugedessen dann der Alguin ermordet waren.',\n",
       "   'timestamp': (449.3, 514.0)},\n",
       "  {'text': ' Lass uns doch mal über den Paulistiakonus war gelehrter am langobadischen Königshof in Pavia, allerdings hat er diese Geschichte der Langobaden ungefähr hundert-zweihundert Jahre später aufgeschrieben, also so Ende des achten Jahrhunderts.',\n",
       "   'timestamp': (514.0, 539.0)},\n",
       "  {'text': 'Also er hat eben die Geschichte der Langobarden aufgeschrieben, allerdings ist es nicht ganz so schlimm, wie man denken würde, also so was, was die Zeitspanne angeht, die dazwischenlegt, weil er hat seine Geschichte auf einer anderen Quelle basieren lassen, nämlich auf der Geschichte der Langobarden, eines gewissen Bischofsekundus von Trient und dieser Bischofsekundus von Trient hat am Hof eines anderen Langebaden-Königs gelebt, nämlich am Hof des Agilulf. Und Agilulf hingegen war ein Langebaden-König, der mehr oder weniger um diese Zeit herum gelebt hat als es passiert ist, also sagen wir mal zehn, zwanzig Jahre später, sein oder zehn Jahre später sogar also nicht wahnsinnig lang.',\n",
       "   'timestamp': (539.0, 591.0)},\n",
       "  {'text': ' Das ist jetzt der zweite, zweitensagelangste, den du versprochen hast, dass ich den Kenenlern, also den Albuin, den Aggie-Lulf, und du hast aber noch von einem dritten, glaube ich, geredet.',\n",
       "   'timestamp': (591.0, 599.0)},\n",
       "  {'text': 'In dem Fall wirst du am Ende der Geschichte sogar vier kennen, weil was passiert ist nachdem die Rosemund ihren Ehemann umbringen lassen.',\n",
       "   'timestamp': (599.0, 607.72)},\n",
       "  {'text': ' Sie ist dann nach Erwender geflohen mit anderen Langobarden, also wirks wahrscheinlich denen, die ja auch beteiligt waren an dem Komplott.',\n",
       "   'timestamp': (607.72, 615.48)},\n",
       "  {'text': ' Und die Langobarden haben daraufhin einen neuen König erwählt und dieser neue König hieß Clef , also C-L-E-P-H. Clef war kein besonders erfolgreicher Königin,',\n",
       "   'timestamp': (615.48, 636.76)},\n",
       "  {'text': ' scheinhalb weil er nur achtzehn Monate regiert hat, nach achtzehn Monaten wurde er nämlich auch ermordet, nett und seine Frau sind von einem Sklav. Daraufhin haben sich die langobadischen Herzöge gedacht, sie haben gelust mehr auf weitere Könige für Zeit, und haben dann einfach zehn Jahre lang keinen König mehr gewählt.',\n",
       "   'timestamp': (636.76, 657.0)},\n",
       "  {'text': 'Gab es einfach keine Könige im Langebadenreich, also unter den Langebaden in Italien.',\n",
       "   'timestamp': (657.0, 663.4)},\n",
       "  {'text': 'Aber die Langebaden und sich sind jetzt nicht untergegangen nach dieser...',\n",
       "   'timestamp': (663.4, 666.6)},\n",
       "  {'text': 'Na, die Langebaden, die im Gegenteil, diese Zeit, also dieses Interregnum, ja, sind auch einige interessante Dinge passiert.',\n",
       "   'timestamp': (666.6, 675.4)},\n",
       "  {'text': ' Also sie haben vor allem ziemlich, sie waren relativ aggressiv gegenüber dem Merovingischen Franken, die im benachbarten Gallien hauptsächlich waren.',\n",
       "   'timestamp': (675.4, 695.0)},\n",
       "  {'text': ' Ansonsten waren sie auch relativ umträbig.',\n",
       "   'timestamp': (695.0, 700.0)},\n",
       "  {'text': 'Im Jahr fünfvierundachtig, also ziemlich am Ende dieses Interregnums, hat sogar der oströmische Kaiser Interesse dran gehabt, dass die Franken gegen die Langobaden vorgehen und angeblich hat er fünfzigtausend Solidi an König Kildebert.',\n",
       "   'timestamp': (700.0, 720.5)},\n",
       "  {'text': ' Solidi? Solidi, mehr Teil von Solidus. Was ist das für eine Währung?',\n",
       "   'timestamp': (720.5, 726.5)},\n",
       "  {'text': 'Sowohl in der wirklich Zahlungsmittel, also der war zu wertvoll, niemander auf uns Solitus rausgeben könne.',\n",
       "   'timestamp': (726.5, 734.5)},\n",
       "  {'text': ' Aber diese fünfzigtausend Soli, die sollen halt einfach zeigen, dass dem roströmischen König, dass es ihm viel wert war, dass gegen die Langobaden vorgangen wird, König Kedewehr dieser auch dann in Zweckitzung gegen die Langebaden, aber war noch erfolgreich.',\n",
       "   'timestamp': (734.5, 766.4)},\n",
       "  {'text': 'Kildebett ist der Merovinger, der zu dem Zeitpunkt aner machte.',\n",
       "   'timestamp': (766.4, 769.5600000000001)},\n",
       "  {'text': ' Einer der, ja. Es ist ja rundgangen in der Gegend die Zeit der, so die Merovingischen Franken haben zur gleichen Zeit an Bürgerkrieg gehabt und eignen, weil dort, ja, das war schwierig, weil das Reich war nicht einreich, sondern es waren mehrere Teilreiche, die Könige hatten, die alle Brüder waren.',\n",
       "   'timestamp': (769.5600000000001, 792.0)},\n",
       "  {'text': ' Und einer der Brüder ist relativ früh gestorben, und die drei anderen Brüder haben dann gekämpft dieses Erbe, das Karibert-Erbe.',\n",
       "   'timestamp': (792.0, 800.0)},\n",
       "  {'text': ' Ich glaube, wir machen aber ja noch mal dazu. - Ja, machen wir eigene Folgen drüber. Das ist nämlich auch sehr spannend, es sollte man auf jeden Fall.',\n",
       "   'timestamp': (800.0, 806.0)},\n",
       "  {'text': 'Jedenfalls, ja, es war sowieso Tumult in dieser Gegend die Zeitraum. Jedenfalls Gedebärter Zweite ist ins Fakie zu gegen die Langobadennetze erfolgreich, und die Langobaden haben dann fünf, vierundachtigerneuen langobadischen König erwählt, und dieser langobadische König ersetzte vierte den Okrennen-Lerns, nämlich Autari.',\n",
       "   'timestamp': (806.0, 831.0)},\n",
       "  {'text': 'Dieser Autari, der war sehr beliebt und ist auch gleich ökonomisch legitimiert worden, wenn man so über die Herzöge, die Langobadischen haben ihm gleich die Hälfte ihres Vermögens zur Verfügung gestellt,',\n",
       "   'timestamp': (831.0, 846.0)},\n",
       "  {'text': ' seine Herrschaft auch auf gute ökonomische Basis zu stellen.',\n",
       "   'timestamp': (846.0, 853.0)},\n",
       "  {'text': ' Und dieser König Autari, der hat dann die Tochter des Bayo-Warischen Herzogs Garibald geheiratet, die Theodilinder und seinem Jahr fünfundneunundachtzig, einige Jahre später nachdem er König geworden ist, ist dann aber leider schon im Jahr fünfundneunzig, also ein Jahr später gestorben, und die Theodilinda, sie zu konsolidieren, oder dafür zu sagen, dass nicht wieder so ein Wachtmakum entsteht, die hat dann einen gewissen Agilulf geheiratet.',\n",
       "   'timestamp': (853.0, 886.0)},\n",
       "  {'text': 'Ich bin gespannt, dass ist das Theodilinder, höchstwahrscheinlich ist es nicht ganz sicher, aber dass sie die Schwester des Tassilow war. Tassilow wiederum war wer? Tassilow war der von dem Frankenkönig Kildebert eingesetzte König des Baujau-Wahrenreichs, also ursprünglich Herzog der Bayern, und Kedebert hat ihn dann fünfundneunneunzig zum König eingesetzt.',\n",
       "   'timestamp': (886.0, 934.0)},\n",
       "  {'text': ' Ok, das heißt, ich habe jetzt vier Langebahnenkönige kennengelernt, den Albuin, den Kles, den Autari und den Agidulf, dazu noch den Gipidenkönig Kunimund, seine Tochter die Rosa-Munde.',\n",
       "   'timestamp': (934.0, 950.72)},\n",
       "  {'text': ' Und am Ende wissen wir dann trotzdem nicht, ob die Geschichte überhaupt stattgefunden hat, weil eventuell hat Paulus Diakonis nur einfach',\n",
       "   'timestamp': (950.72, 958.32)},\n",
       "  {'text': ' irgendeine Geschichte gebraucht, den Mord zu rechtfertigen.',\n",
       "   'timestamp': (958.32, 961.6)},\n",
       "  {'text': ' Ja, natürlich, es gibt ja auch noch andere Legenden, die besagen, dass der eigentliche Konflikt zwischen den Langomunds,',\n",
       "   'timestamp': (961.6, 969.84)},\n",
       "  {'text': ' umgebracht hat oder dafür gesagt, dass er im Zuge des Konflikts stirbt. Ob der Alba ihn jetzt wirklich so ein ungarter Kerl war, dass er als der Tochter des Toten, den Schädel des Toten, zum Gebt, aus Wein zu trinken, das wissen wir nicht, da müssen wir uns auf Paulus Diakanus verlassen beziehungsweise auf den Sekundus von Trient?',\n",
       "   'timestamp': (969.84, 1005.72)},\n",
       "  {'text': \" Man muss natürlich immer bei solchen Sachen bedenken, dass, wie auch immer dieser Geschichte geschrieben hat, hat sie am Hof, hat sie oft am Hof jener gemacht über die er schreibt, das heißt, die Kreueltaten sind wahrscheinlich weniger ausführlich dargestellt als die Wundertaten beim Müssewelen. Ich würde sagen, Belassungsmul dabei oder gibt's noch was, was du der Geschichte hinzufügen wollen würdest? Nicht zu diesem Zeitpunkt, Daniel. Dann würde ich sagen, auf Abschieden uns mal danke fürs Zuhören. Danke. Wir freuen uns über Feedback, zum Beispiel Feedback@zeitsprung.fm. Hinterlass ein Kommentar, bewertet uns auf iTunes und lasst uns hören, was wir von Zeitsprung haltet. Wichtig noch zu sagen, die Band Radar hat den Jingle ermöglicht, wir dürfen nämlich einen Teil eines Songs für den Jingle verwenden. Der Link zum Song gibt es natürlich auf der Webseite Zeitsprung.fm. Und das letzte Wort gehört wie immer Bruno Kreski.\",\n",
       "   'timestamp': (1005.72, 1074.0)},\n",
       "  {'text': 'Werden singen, der Epoch wieder sich damals endlich führersamt!',\n",
       "   'timestamp': (1074.0, 1080.0)}]}"
      ]
     },
     "execution_count": 3,
     "metadata": {},
     "output_type": "execute_result"
    }
   ],
   "source": [
    "result = pipe('GAG001.mp3', return_timestamps=True)\n",
    "result"
   ]
  },
  {
   "cell_type": "code",
   "execution_count": 5,
   "metadata": {},
   "outputs": [],
   "source": [
    "with open('GAG001_transcript.txt', 'w') as f:\n",
    "    f.write(result['text'])"
   ]
  },
  {
   "cell_type": "code",
   "execution_count": null,
   "metadata": {},
   "outputs": [],
   "source": [
    "import openai\n",
    "\n",
    "audio_file= open(\"GAG001_sample.mp3\", \"rb\")\n",
    "transcript = openai.Audio.transcribe(\"whisper-1\", audio_file)"
   ]
  }
 ],
 "metadata": {
  "kernelspec": {
   "display_name": "airflow_env",
   "language": "python",
   "name": "python3"
  },
  "language_info": {
   "codemirror_mode": {
    "name": "ipython",
    "version": 3
   },
   "file_extension": ".py",
   "mimetype": "text/x-python",
   "name": "python",
   "nbconvert_exporter": "python",
   "pygments_lexer": "ipython3",
   "version": "3.10.9"
  },
  "orig_nbformat": 4
 },
 "nbformat": 4,
 "nbformat_minor": 2
}
