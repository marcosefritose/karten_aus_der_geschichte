{
 "cells": [
  {
   "cell_type": "code",
   "execution_count": 3,
   "id": "8d5e79de-22c2-497d-a15a-965a266efb34",
   "metadata": {},
   "outputs": [],
   "source": [
    "import feedparser\n",
    "import spacy\n",
    "import pandas as pd\n",
    "import sqlite3\n",
    "from geopy.geocoders import Nominatim"
   ]
  },
  {
   "cell_type": "markdown",
   "id": "93087231",
   "metadata": {},
   "source": [
    "### Podcast Feed Scraping\n",
    "Download the entire Podcast feed and transform into DataFrame for easier analysis"
   ]
  },
  {
   "cell_type": "code",
   "execution_count": 137,
   "id": "f9358539-26cf-4f11-be80-adca0da8e1e1",
   "metadata": {},
   "outputs": [],
   "source": [
    "feed_url = \"https://geschichten-aus-der-geschichte.podigee.io/feed/mp3\"\n",
    "episode_feed = feedparser.parse(feed_url)\n",
    "\n",
    "df = pd.DataFrame(episode_feed['entries'])\n",
    "df = df[['title', 'subtitle', 'summary', 'published', 'link']]"
   ]
  },
  {
   "cell_type": "code",
   "execution_count": 138,
   "id": "6f84e806",
   "metadata": {},
   "outputs": [
    {
     "data": {
      "text/html": [
       "<div>\n",
       "<style scoped>\n",
       "    .dataframe tbody tr th:only-of-type {\n",
       "        vertical-align: middle;\n",
       "    }\n",
       "\n",
       "    .dataframe tbody tr th {\n",
       "        vertical-align: top;\n",
       "    }\n",
       "\n",
       "    .dataframe thead th {\n",
       "        text-align: right;\n",
       "    }\n",
       "</style>\n",
       "<table border=\"1\" class=\"dataframe\">\n",
       "  <thead>\n",
       "    <tr style=\"text-align: right;\">\n",
       "      <th></th>\n",
       "      <th>title</th>\n",
       "      <th>subtitle</th>\n",
       "      <th>summary</th>\n",
       "      <th>published</th>\n",
       "      <th>link</th>\n",
       "    </tr>\n",
       "  </thead>\n",
       "  <tbody>\n",
       "    <tr>\n",
       "      <th>0</th>\n",
       "      <td>FGAG07: Bibi &amp; Tina, Casinos in Macau und noch...</td>\n",
       "      <td>Ein FeedGAG u.a über Galla Placidia, Glücksspi...</td>\n",
       "      <td>Wir sprechen in diesem FeedGAG u.a. über  Gall...</td>\n",
       "      <td>Sun, 27 Nov 2022 12:00:00 +0000</td>\n",
       "      <td>https://www.geschichte.fm/archiv/fgag07/</td>\n",
       "    </tr>\n",
       "    <tr>\n",
       "      <th>1</th>\n",
       "      <td>GAG374: Ludwik Fleck und das Fleckfieber</td>\n",
       "      <td>Eine Geschichte über die Bekämpfung einer Kran...</td>\n",
       "      <td>Das Fleckfieber wurde nicht nach ihm benannt, ...</td>\n",
       "      <td>Wed, 23 Nov 2022 08:20:00 +0000</td>\n",
       "      <td>https://www.geschichte.fm/archiv/gag374/</td>\n",
       "    </tr>\n",
       "    <tr>\n",
       "      <th>2</th>\n",
       "      <td>GAG373: Morocco und der Kluge Hans</td>\n",
       "      <td>Eine Geschichte über zwei außergewöhnliche Pferde</td>\n",
       "      <td>Wir springen in dieser Folge in zwei unterschi...</td>\n",
       "      <td>Wed, 16 Nov 2022 08:45:00 +0000</td>\n",
       "      <td>https://www.geschichte.fm/archiv/gag373/</td>\n",
       "    </tr>\n",
       "    <tr>\n",
       "      <th>3</th>\n",
       "      <td>GAG372: Wie das Roulette eine Null verlor</td>\n",
       "      <td>Eine Geschichte über einen Börsenbetrug und Sp...</td>\n",
       "      <td>Im Jahr 1834 finden die Brüder Blanc einen Weg...</td>\n",
       "      <td>Wed, 09 Nov 2022 08:15:00 +0000</td>\n",
       "      <td>https://www.geschichte.fm/archiv/gag372/</td>\n",
       "    </tr>\n",
       "    <tr>\n",
       "      <th>4</th>\n",
       "      <td>GAG371: Galla Placidia</td>\n",
       "      <td>Eine Geschichte über die mächtigste Frau der S...</td>\n",
       "      <td>Wir springen diesmal ins Rom des 5. Jahrhunder...</td>\n",
       "      <td>Wed, 02 Nov 2022 08:45:00 +0000</td>\n",
       "      <td>https://www.geschichte.fm/archiv/gag371/</td>\n",
       "    </tr>\n",
       "    <tr>\n",
       "      <th>...</th>\n",
       "      <td>...</td>\n",
       "      <td>...</td>\n",
       "      <td>...</td>\n",
       "      <td>...</td>\n",
       "      <td>...</td>\n",
       "    </tr>\n",
       "    <tr>\n",
       "      <th>388</th>\n",
       "      <td>GAG04: Wellingtons Rache, oder: Ein Bein für e...</td>\n",
       "      <td>Eine Geschichte über ein Bein, das zu einer To...</td>\n",
       "      <td>Wir springen in die Zeit der napoleonischen Kr...</td>\n",
       "      <td>Sun, 18 Oct 2015 19:27:16 +0000</td>\n",
       "      <td>https://www.geschichte.fm/podcast/zs04</td>\n",
       "    </tr>\n",
       "    <tr>\n",
       "      <th>389</th>\n",
       "      <td>GAG03: Fitness-Parcours für den Pharao</td>\n",
       "      <td>Eine Geschichte über Pharaonen, die ihre Regie...</td>\n",
       "      <td>Wer regieren will, muss fit sein? Aber wie läs...</td>\n",
       "      <td>Sun, 11 Oct 2015 17:30:33 +0000</td>\n",
       "      <td>https://www.geschichte.fm/podcast/zs03</td>\n",
       "    </tr>\n",
       "    <tr>\n",
       "      <th>390</th>\n",
       "      <td>GAG02: Tatortschau mit Wiedererkennungswert</td>\n",
       "      <td>Eine Geschichte über Fingerabdrücke und die An...</td>\n",
       "      <td>Wir springen diesmal nicht ganz so weit zurück...</td>\n",
       "      <td>Mon, 05 Oct 2015 10:19:27 +0000</td>\n",
       "      <td>https://www.geschichte.fm/podcast/zs02</td>\n",
       "    </tr>\n",
       "    <tr>\n",
       "      <th>391</th>\n",
       "      <td>GAG01: Vier Langobarden-Könige und ein Trinkbe...</td>\n",
       "      <td>Eine Geschichte über den Langobardenkönig Albo...</td>\n",
       "      <td>Frühes Mittelalter in Italien: Times are rough...</td>\n",
       "      <td>Thu, 01 Oct 2015 09:07:13 +0000</td>\n",
       "      <td>https://www.geschichte.fm/podcast/zs01</td>\n",
       "    </tr>\n",
       "    <tr>\n",
       "      <th>392</th>\n",
       "      <td>ZS00: Jingle</td>\n",
       "      <td>Ein Jingle für Geschichten aus der Geschichte</td>\n",
       "      <td>Geschichten aus der Geschichte ist ein neuer P...</td>\n",
       "      <td>Fri, 25 Sep 2015 12:38:04 +0000</td>\n",
       "      <td>https://www.geschichte.fm/podcast/zs00</td>\n",
       "    </tr>\n",
       "  </tbody>\n",
       "</table>\n",
       "<p>393 rows × 5 columns</p>\n",
       "</div>"
      ],
      "text/plain": [
       "                                                 title  \\\n",
       "0    FGAG07: Bibi & Tina, Casinos in Macau und noch...   \n",
       "1             GAG374: Ludwik Fleck und das Fleckfieber   \n",
       "2                   GAG373: Morocco und der Kluge Hans   \n",
       "3            GAG372: Wie das Roulette eine Null verlor   \n",
       "4                               GAG371: Galla Placidia   \n",
       "..                                                 ...   \n",
       "388  GAG04: Wellingtons Rache, oder: Ein Bein für e...   \n",
       "389             GAG03: Fitness-Parcours für den Pharao   \n",
       "390        GAG02: Tatortschau mit Wiedererkennungswert   \n",
       "391  GAG01: Vier Langobarden-Könige und ein Trinkbe...   \n",
       "392                                       ZS00: Jingle   \n",
       "\n",
       "                                              subtitle  \\\n",
       "0    Ein FeedGAG u.a über Galla Placidia, Glücksspi...   \n",
       "1    Eine Geschichte über die Bekämpfung einer Kran...   \n",
       "2    Eine Geschichte über zwei außergewöhnliche Pferde   \n",
       "3    Eine Geschichte über einen Börsenbetrug und Sp...   \n",
       "4    Eine Geschichte über die mächtigste Frau der S...   \n",
       "..                                                 ...   \n",
       "388  Eine Geschichte über ein Bein, das zu einer To...   \n",
       "389  Eine Geschichte über Pharaonen, die ihre Regie...   \n",
       "390  Eine Geschichte über Fingerabdrücke und die An...   \n",
       "391  Eine Geschichte über den Langobardenkönig Albo...   \n",
       "392      Ein Jingle für Geschichten aus der Geschichte   \n",
       "\n",
       "                                               summary  \\\n",
       "0    Wir sprechen in diesem FeedGAG u.a. über  Gall...   \n",
       "1    Das Fleckfieber wurde nicht nach ihm benannt, ...   \n",
       "2    Wir springen in dieser Folge in zwei unterschi...   \n",
       "3    Im Jahr 1834 finden die Brüder Blanc einen Weg...   \n",
       "4    Wir springen diesmal ins Rom des 5. Jahrhunder...   \n",
       "..                                                 ...   \n",
       "388  Wir springen in die Zeit der napoleonischen Kr...   \n",
       "389  Wer regieren will, muss fit sein? Aber wie läs...   \n",
       "390  Wir springen diesmal nicht ganz so weit zurück...   \n",
       "391  Frühes Mittelalter in Italien: Times are rough...   \n",
       "392  Geschichten aus der Geschichte ist ein neuer P...   \n",
       "\n",
       "                           published                                      link  \n",
       "0    Sun, 27 Nov 2022 12:00:00 +0000  https://www.geschichte.fm/archiv/fgag07/  \n",
       "1    Wed, 23 Nov 2022 08:20:00 +0000  https://www.geschichte.fm/archiv/gag374/  \n",
       "2    Wed, 16 Nov 2022 08:45:00 +0000  https://www.geschichte.fm/archiv/gag373/  \n",
       "3    Wed, 09 Nov 2022 08:15:00 +0000  https://www.geschichte.fm/archiv/gag372/  \n",
       "4    Wed, 02 Nov 2022 08:45:00 +0000  https://www.geschichte.fm/archiv/gag371/  \n",
       "..                               ...                                       ...  \n",
       "388  Sun, 18 Oct 2015 19:27:16 +0000    https://www.geschichte.fm/podcast/zs04  \n",
       "389  Sun, 11 Oct 2015 17:30:33 +0000    https://www.geschichte.fm/podcast/zs03  \n",
       "390  Mon, 05 Oct 2015 10:19:27 +0000    https://www.geschichte.fm/podcast/zs02  \n",
       "391  Thu, 01 Oct 2015 09:07:13 +0000    https://www.geschichte.fm/podcast/zs01  \n",
       "392  Fri, 25 Sep 2015 12:38:04 +0000    https://www.geschichte.fm/podcast/zs00  \n",
       "\n",
       "[393 rows x 5 columns]"
      ]
     },
     "execution_count": 138,
     "metadata": {},
     "output_type": "execute_result"
    }
   ],
   "source": [
    "df"
   ]
  },
  {
   "cell_type": "markdown",
   "id": "ea32f15e",
   "metadata": {},
   "source": [
    "### Database Helper Class\n",
    "Class able to connect to Flask SQLite Database and helper function for querying and writing "
   ]
  },
  {
   "cell_type": "code",
   "execution_count": 145,
   "id": "e53ec606",
   "metadata": {},
   "outputs": [],
   "source": [
    "from datetime import datetime\n",
    "\n",
    "class DB():\n",
    "    con = sqlite3.connect(\"database.db\")\n",
    "    cur = con.cursor()\n",
    "    \n",
    "    def save_episode(self, id, title, summary, published, link):\n",
    "        query = f\"INSERT INTO 'episode' (id, title, summary, published, link) VALUES ('{id}', '{title}', '{summary}', '{datetime.strptime(published, '%a, %d %b %Y %H:%M:%S %z')}', '{link}')\"\n",
    "        self.cur.execute(query)\n",
    "        self.con.commit()\n",
    "    \n",
    "    def save_location(self, episode_id, name, longitude, latitude):\n",
    "        query = f\"INSERT INTO 'location' (episode_id, name, longitude, latitude) VALUES ('{episode_id}', '{name}', '{longitude}', '{latitude}');\"\n",
    "        self.cur.execute(query)\n",
    "        self.con.commit()\n",
    "    \n",
    "    def get_all_episodes(self):\n",
    "        query = \"SELECT * FROM 'episode' ORDER BY 'id' DESC;\"\n",
    "        return self.cur.execute(query).fetchall()\n",
    "    \n",
    "    def get_episode(self, id):\n",
    "        query = f\"SELECT * FROM 'episode' WHERE id='{id}';\"\n",
    "        return self.cur.execute(query).fetchone()\n",
    "        \n",
    "    def describe_table(self, table):\n",
    "        return self.cur.execute(f\"SELECT sql FROM sqlite_schema WHERE name='{table}';\").fetchall()"
   ]
  },
  {
   "cell_type": "code",
   "execution_count": 130,
   "id": "ad438622",
   "metadata": {},
   "outputs": [
    {
     "data": {
      "text/plain": [
       "[]"
      ]
     },
     "execution_count": 130,
     "metadata": {},
     "output_type": "execute_result"
    }
   ],
   "source": [
    "db = DB()\n",
    "# db.save_episode('ZZZ999', 'title', 'summary', 'Dec 21 2020  1:01PM', 'link.com')\n",
    "# db.save_location('ZZZ999', 'Pari', '123', '321')\n",
    "# db.describe_table('episode')\n",
    "# print(db.get_episode('ZZZ9999'))\n",
    "db.get_all_episodes()"
   ]
  },
  {
   "cell_type": "markdown",
   "id": "f9615154",
   "metadata": {},
   "source": [
    "### Get Location Data\n",
    "Extract all location information in podcast summary using spaCys NER. Using geopy to query OSM API for coordinates.\n",
    "Write Information into DB."
   ]
  },
  {
   "cell_type": "code",
   "execution_count": 147,
   "id": "a458777f-7df2-442f-993d-aa88becda326",
   "metadata": {
    "collapsed": true,
    "jupyter": {
     "outputs_hidden": true
    },
    "tags": []
   },
   "outputs": [
    {
     "data": {
      "application/vnd.jupyter.widget-view+json": {
       "model_id": "0e4f61c46a1b4947a08d5e507ee7826c",
       "version_major": 2,
       "version_minor": 0
      },
      "text/plain": [
       "  0%|          | 0/393 [00:00<?, ?it/s]"
      ]
     },
     "metadata": {},
     "output_type": "display_data"
    },
    {
     "name": "stdout",
     "output_type": "stream",
     "text": [
      "INSERT INTO 'episode' (id, title, summary, published, link) VALUES ('FGAG07', 'FGAG07: Bibi & Tina, Casinos in Macau und noch mehr Schiffe in Maisfeldern', 'FGAG07: Bibi & Tina, Casinos in Macau und noch mehr Schiffe in Maisfeldern', '2022-11-27 12:00:00+00:00', 'https://www.geschichte.fm/archiv/fgag07/')\n",
      "INSERT INTO 'episode' (id, title, summary, published, link) VALUES ('GAG374', 'GAG374: Ludwik Fleck und das Fleckfieber', 'GAG374: Ludwik Fleck und das Fleckfieber', '2022-11-23 08:20:00+00:00', 'https://www.geschichte.fm/archiv/gag374/')\n",
      "INSERT INTO 'episode' (id, title, summary, published, link) VALUES ('GAG373', 'GAG373: Morocco und der Kluge Hans', 'GAG373: Morocco und der Kluge Hans', '2022-11-16 08:45:00+00:00', 'https://www.geschichte.fm/archiv/gag373/')\n",
      "INSERT INTO 'episode' (id, title, summary, published, link) VALUES ('GAG372', 'GAG372: Wie das Roulette eine Null verlor', 'GAG372: Wie das Roulette eine Null verlor', '2022-11-09 08:15:00+00:00', 'https://www.geschichte.fm/archiv/gag372/')\n",
      "INSERT INTO 'episode' (id, title, summary, published, link) VALUES ('GAG371', 'GAG371: Galla Placidia', 'GAG371: Galla Placidia', '2022-11-02 08:45:00+00:00', 'https://www.geschichte.fm/archiv/gag371/')\n",
      "INSERT INTO 'episode' (id, title, summary, published, link) VALUES ('FGAG06', 'FGAG06: Egostory, Schwesterschiff und ein Freispruch für die Gletscher', 'FGAG06: Egostory, Schwesterschiff und ein Freispruch für die Gletscher', '2022-10-30 10:00:00+00:00', 'https://www.geschichte.fm/archiv/fgag06/')\n",
      "INSERT INTO 'episode' (id, title, summary, published, link) VALUES ('GAG370', 'GAG370: Der Kodex des Archimedes', 'GAG370: Der Kodex des Archimedes', '2022-10-26 07:15:00+00:00', 'https://www.geschichte.fm/archiv/gag370/')\n",
      "INSERT INTO 'episode' (id, title, summary, published, link) VALUES ('GAG369', 'GAG369: Der Struwwelpeter', 'GAG369: Der Struwwelpeter', '2022-10-19 07:45:00+00:00', 'https://www.geschichte.fm/archiv/gag369/')\n",
      "INSERT INTO 'episode' (id, title, summary, published, link) VALUES ('GAG368', 'GAG368: Wie das Jod ins Salz kam', 'GAG368: Wie das Jod ins Salz kam', '2022-10-12 07:15:00+00:00', 'https://www.geschichte.fm/archiv/gag368/')\n",
      "INSERT INTO 'episode' (id, title, summary, published, link) VALUES ('GAG367', 'GAG367: Untergang und Comeback der VASA', 'GAG367: Untergang und Comeback der VASA', '2022-10-05 07:45:00+00:00', 'https://www.geschichte.fm/archiv/gag367/')\n",
      "INSERT INTO 'episode' (id, title, summary, published, link) VALUES ('FGAG05', 'FGAG05: Duke in Paris, Jazzualdo und die Ghost Army', 'FGAG05: Duke in Paris, Jazzualdo und die Ghost Army', '2022-10-02 11:15:00+00:00', 'https://www.geschichte.fm/archiv/fgag05/')\n",
      "INSERT INTO 'episode' (id, title, summary, published, link) VALUES ('GAG366', 'GAG366: Das Attentat von Anagni', 'GAG366: Das Attentat von Anagni', '2022-09-28 07:15:00+00:00', 'https://www.geschichte.fm/archiv/gag366/')\n",
      "INSERT INTO 'episode' (id, title, summary, published, link) VALUES ('GAG365', 'GAG365: The Ghost Army', 'GAG365: The Ghost Army', '2022-09-21 07:45:00+00:00', 'https://www.geschichte.fm/archiv/gag365/')\n",
      "INSERT INTO 'episode' (id, title, summary, published, link) VALUES ('GAG364', 'GAG364: Mord und Madrigale – Carlo Gesualdo', 'GAG364: Mord und Madrigale – Carlo Gesualdo', '2022-09-14 07:15:00+00:00', 'https://www.geschichte.fm/archiv/gag364/')\n",
      "INSERT INTO 'episode' (id, title, summary, published, link) VALUES ('GAG363', 'GAG363: Duke Kahanamoku', 'GAG363: Duke Kahanamoku', '2022-09-07 07:45:00+00:00', 'https://www.geschichte.fm/archiv/gag363/')\n",
      "INSERT INTO 'episode' (id, title, summary, published, link) VALUES ('GAG362', 'GAG362: Bayerns letzte Kurfürstin', 'GAG362: Bayerns letzte Kurfürstin', '2022-08-31 07:20:00+00:00', 'https://www.geschichte.fm/archiv/gag362/')\n",
      "INSERT INTO 'episode' (id, title, summary, published, link) VALUES ('FGAG04', 'FGAG04: Reinhard und das Reis-Telefon', 'FGAG04: Reinhard und das Reis-Telefon', '2022-08-28 06:05:00+00:00', 'https://www.geschichte.fm/archiv/fgag04/')\n",
      "INSERT INTO 'episode' (id, title, summary, published, link) VALUES ('GAG361', 'GAG361: Gustave Trouvé - der vergessene Erfinder', 'GAG361: Gustave Trouvé - der vergessene Erfinder', '2022-08-24 07:45:00+00:00', 'https://www.geschichte.fm/archiv/gag361/')\n",
      "INSERT INTO 'episode' (id, title, summary, published, link) VALUES ('GAG360', 'GAG360: Unglück am Matterhorn', 'GAG360: Unglück am Matterhorn', '2022-08-17 07:10:00+00:00', 'https://www.geschichte.fm/archiv/gag360/')\n",
      "INSERT INTO 'episode' (id, title, summary, published, link) VALUES ('GAG359', 'GAG359: Eine kleine Geschichte des Schachspiels', 'GAG359: Eine kleine Geschichte des Schachspiels', '2022-08-10 07:45:00+00:00', 'https://www.geschichte.fm/archiv/gag359/')\n",
      "INSERT INTO 'episode' (id, title, summary, published, link) VALUES ('GAG358', 'GAG358: Philipp Reis und die Erfindung des Telefons', 'GAG358: Philipp Reis und die Erfindung des Telefons', '2022-08-03 07:30:00+00:00', 'https://www.geschichte.fm/archiv/gag358/')\n",
      "INSERT INTO 'episode' (id, title, summary, published, link) VALUES ('FGAG03', 'FGAG03: Erwin Kreuz - ein Update', 'FGAG03: Erwin Kreuz - ein Update', '2022-07-31 09:50:00+00:00', 'https://www.geschichte.fm/archiv/fgag03/')\n",
      "INSERT INTO 'episode' (id, title, summary, published, link) VALUES ('GAG357', 'GAG357: Mary Kingsley', 'GAG357: Mary Kingsley', '2022-07-27 07:45:00+00:00', 'https://www.geschichte.fm/archiv/gag357/')\n",
      "INSERT INTO 'episode' (id, title, summary, published, link) VALUES ('GAG356', 'GAG356: Das DeLorean-Drama', 'GAG356: Das DeLorean-Drama', '2022-07-20 07:00:00+00:00', 'https://www.geschichte.fm/archiv/gag356/')\n",
      "INSERT INTO 'episode' (id, title, summary, published, link) VALUES ('GAG355', 'GAG355: Der Englische Schweiß', 'GAG355: Der Englische Schweiß', '2022-07-13 07:45:00+00:00', 'https://www.geschichte.fm/archiv/gag355/')\n",
      "INSERT INTO 'episode' (id, title, summary, published, link) VALUES ('GAG354', 'GAG354: Die Halsbandaffäre', 'GAG354: Die Halsbandaffäre', '2022-07-06 07:45:00+00:00', 'https://www.geschichte.fm/archiv/gag354/')\n",
      "INSERT INTO 'episode' (id, title, summary, published, link) VALUES ('GAG353', 'GAG353: Wallada', 'GAG353: Wallada', '2022-06-29 07:45:00+00:00', 'https://www.geschichte.fm/archiv/gag353/')\n",
      "INSERT INTO 'episode' (id, title, summary, published, link) VALUES ('FGAG02', 'FGAG02: Mord auf Ex', 'FGAG02: Mord auf Ex', '2022-06-24 09:45:00+00:00', 'https://www.geschichte.fm/archiv/fgag02/')\n",
      "INSERT INTO 'episode' (id, title, summary, published, link) VALUES ('GAG352', 'GAG352: Wallace und das Rennen um die Evolutionstheorie', 'GAG352: Wallace und das Rennen um die Evolutionstheorie', '2022-06-22 07:50:00+00:00', 'https://www.geschichte.fm/archiv/gag352/')\n",
      "INSERT INTO 'episode' (id, title, summary, published, link) VALUES ('GAG351', 'GAG351: Die Erfindung des Saxophons - Aufstieg und Fall des Adolphe Sax', 'GAG351: Die Erfindung des Saxophons - Aufstieg und Fall des Adolphe Sax', '2022-06-15 07:45:00+00:00', 'https://www.geschichte.fm/archiv/gag351/')\n",
      "INSERT INTO 'episode' (id, title, summary, published, link) VALUES ('GAG350', 'GAG350: Der Bauernkrieg und die Revolution von 1525', 'GAG350: Der Bauernkrieg und die Revolution von 1525', '2022-06-08 07:50:00+00:00', 'https://www.geschichte.fm/archiv/gag350/')\n",
      "INSERT INTO 'episode' (id, title, summary, published, link) VALUES ('GAG349', 'GAG349: Konstantin Phaulkon im Königreich Ayutthaya', 'GAG349: Konstantin Phaulkon im Königreich Ayutthaya', '2022-06-01 07:05:57+00:00', 'https://www.geschichte.fm/archiv/gag349/')\n",
      "INSERT INTO 'episode' (id, title, summary, published, link) VALUES ('GAG348', 'GAG348: Der Anschlag auf die Mosel', 'GAG348: Der Anschlag auf die Mosel', '2022-05-25 07:50:00+00:00', 'https://www.geschichte.fm/archiv/gag348/')\n",
      "INSERT INTO 'episode' (id, title, summary, published, link) VALUES ('GAG347', 'GAG347: Adrianopel 378', 'GAG347: Adrianopel 378', '2022-05-18 07:45:00+00:00', 'https://www.geschichte.fm/archiv/gag347/')\n",
      "INSERT INTO 'episode' (id, title, summary, published, link) VALUES ('GAG346', 'GAG346: Die längste Hängebrücke der Welt', 'GAG346: Die längste Hängebrücke der Welt', '2022-05-11 07:50:00+00:00', 'https://www.geschichte.fm/archiv/gag346/')\n",
      "INSERT INTO 'episode' (id, title, summary, published, link) VALUES ('GAG345', 'GAG345: Suffrajitsu', 'GAG345: Suffrajitsu', '2022-05-04 07:45:00+00:00', 'https://www.geschichte.fm/archiv/gag345/')\n",
      "INSERT INTO 'episode' (id, title, summary, published, link) VALUES ('FGAG01', 'FGAG01: Atlantropa', 'FGAG01: Atlantropa', '2022-04-29 10:12:18+00:00', 'https://www.geschichte.fm/archiv/fgag01-atlantropa/')\n",
      "INSERT INTO 'episode' (id, title, summary, published, link) VALUES ('GAG344', 'GAG344: Der Artischockenkrieg', 'GAG344: Der Artischockenkrieg', '2022-04-27 07:50:00+00:00', 'https://www.geschichte.fm/archiv/gag344/')\n",
      "INSERT INTO 'episode' (id, title, summary, published, link) VALUES ('GAG343', 'GAG343: Phoebus und die geplante Obsoleszenz', 'GAG343: Phoebus und die geplante Obsoleszenz', '2022-04-20 07:45:00+00:00', 'https://www.geschichte.fm/archiv/gag343/')\n",
      "INSERT INTO 'episode' (id, title, summary, published, link) VALUES ('GAG342', 'GAG342: Das Stockholmer Blutbad', 'GAG342: Das Stockholmer Blutbad', '2022-04-13 07:50:00+00:00', 'https://www.geschichte.fm/archiv/gag342/')\n",
      "INSERT INTO 'episode' (id, title, summary, published, link) VALUES ('GAG341', 'GAG341: Der Exorzismus der Marthe Brossier', 'GAG341: Der Exorzismus der Marthe Brossier', '2022-04-06 07:45:00+00:00', 'https://www.geschichte.fm/archiv/gag341/')\n",
      "INSERT INTO 'episode' (id, title, summary, published, link) VALUES ('GAG340', 'GAG340: Tauben, die Raketen steuern und Kybernetik', 'GAG340: Tauben, die Raketen steuern und Kybernetik', '2022-03-30 07:50:00+00:00', 'https://www.geschichte.fm/archiv/gag340/')\n",
      "INSERT INTO 'episode' (id, title, summary, published, link) VALUES ('GAG339', 'GAG339: Der Vocoder', 'GAG339: Der Vocoder', '2022-03-23 08:45:00+00:00', 'https://www.geschichte.fm/archiv/gag339/')\n",
      "INSERT INTO 'episode' (id, title, summary, published, link) VALUES ('GAG338', 'GAG338: Eine neue Gesellschaft – Frühsozialist Robert Owen', 'GAG338: Eine neue Gesellschaft – Frühsozialist Robert Owen', '2022-03-16 08:50:00+00:00', 'https://www.geschichte.fm/archiv/gag338/')\n",
      "INSERT INTO 'episode' (id, title, summary, published, link) VALUES ('GAG337', 'GAG337: Über Hummer, Kaviar und wie das Loch in den Donut kam', 'GAG337: Über Hummer, Kaviar und wie das Loch in den Donut kam', '2022-03-09 08:45:00+00:00', 'https://www.geschichte.fm/archiv/gag337/')\n",
      "INSERT INTO 'episode' (id, title, summary, published, link) VALUES ('GAG336', 'GAG336: George Smith und die Entdeckung des Gilgamesch-Epos', 'GAG336: George Smith und die Entdeckung des Gilgamesch-Epos', '2022-03-02 08:50:00+00:00', 'https://www.geschichte.fm/archiv/gag336/')\n",
      "INSERT INTO 'episode' (id, title, summary, published, link) VALUES ('GAG335', 'GAG335: Aqua Tofana und die Giftmischerinnen des 17. Jahrhunderts', 'GAG335: Aqua Tofana und die Giftmischerinnen des 17. Jahrhunderts', '2022-02-23 08:45:00+00:00', 'https://www.geschichte.fm/archiv/gag335/')\n",
      "INSERT INTO 'episode' (id, title, summary, published, link) VALUES ('GAG334', 'GAG334: Rachel Carson und der stumme Frühling', 'GAG334: Rachel Carson und der stumme Frühling', '2022-02-16 08:50:00+00:00', 'https://www.geschichte.fm/archiv/gag334/')\n",
      "INSERT INTO 'episode' (id, title, summary, published, link) VALUES ('GAG333', 'GAG333: Alexandria', 'GAG333: Alexandria', '2022-02-09 08:45:00+00:00', 'https://www.geschichte.fm/archiv/gag333/')\n",
      "INSERT INTO 'episode' (id, title, summary, published, link) VALUES ('GAG332', 'GAG332: Wie Gregor MacGregor ein Land verkaufte, das es gar nicht gab', 'GAG332: Wie Gregor MacGregor ein Land verkaufte, das es gar nicht gab', '2022-02-02 08:55:00+00:00', 'https://www.geschichte.fm/archiv/gag332/')\n",
      "INSERT INTO 'episode' (id, title, summary, published, link) VALUES ('GAG331', 'GAG331: Wie Tetris die Welt eroberte', 'GAG331: Wie Tetris die Welt eroberte', '2022-01-26 08:45:00+00:00', 'https://www.geschichte.fm/archiv/gag331/')\n"
     ]
    }
   ],
   "source": [
    "from tqdm.notebook import tqdm\n",
    "\n",
    "nlp = spacy.load(\"de_core_news_sm\")\n",
    "geolocator = Nominatim(user_agent=\"karten_aus_der_geschichte\")\n",
    "\n",
    "db = DB()\n",
    "\n",
    "for episode in episode_feed['entries']:\n",
    "    title = episode['title']\n",
    "    symbol = title.split(':')[0]\n",
    "    summary = episode['summary']\n",
    "    link = episode['link']\n",
    "    published = episode['published']\n",
    "    \n",
    "    \n",
    "    db.save_episode(symbol, title, title, published, link)\n",
    "    \n",
    "    summary_doc = nlp(summary)\n",
    "    \n",
    "    for word in summary_doc.ents:\n",
    "        if word.label_ == 'LOC' and 'http' not in word.text:\n",
    "            location = geolocator.geocode(word.text, language=\"de\")\n",
    "            if(location):\n",
    "                db.save_location(symbol, word.text, location.longitude, location.latitude)"
   ]
  },
  {
   "cell_type": "code",
   "execution_count": null,
   "id": "90f3dd27",
   "metadata": {},
   "outputs": [],
   "source": []
  }
 ],
 "metadata": {
  "kernelspec": {
   "display_name": "Python 3.9.15 ('kartenausdergeschichte')",
   "language": "python",
   "name": "python3"
  },
  "language_info": {
   "codemirror_mode": {
    "name": "ipython",
    "version": 3
   },
   "file_extension": ".py",
   "mimetype": "text/x-python",
   "name": "python",
   "nbconvert_exporter": "python",
   "pygments_lexer": "ipython3",
   "version": "3.9.15"
  },
  "vscode": {
   "interpreter": {
    "hash": "49540dbaf46d19557b0cc932262c60aa00beb2b7593b13d051f08b37576eb310"
   }
  }
 },
 "nbformat": 4,
 "nbformat_minor": 5
}
